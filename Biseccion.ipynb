{
 "cells": [
  {
   "cell_type": "code",
   "execution_count": 1,
   "metadata": {},
   "outputs": [
    {
     "name": "stdout",
     "output_type": "stream",
     "text": [
      "La solución encontrada es x = 0.000000\n"
     ]
    }
   ],
   "source": [
    "import numpy as np\n",
    "\n",
    "# Método de bisección\n",
    "def bisection_method(f, a, b, tol=1e-6):\n",
    "    if f(a) * f(b) > 0:\n",
    "        raise ValueError(\"Los extremos del intervalo deben tener signos opuestos.\")\n",
    "    \n",
    "    while b - a > tol:\n",
    "        c = (a + b) / 2\n",
    "        if f(c) == 0:  # Raíz exacta encontrada\n",
    "            return c\n",
    "        elif f(a) * f(c) < 0:\n",
    "            b = c\n",
    "        else:\n",
    "            a = c\n",
    "    \n",
    "    return (a + b) / 2\n",
    "\n",
    "# Definición de la función\n",
    "def f(x):\n",
    "    return np.sin(x)\n",
    "\n",
    "# Ejecución del método con un intervalo válido\n",
    "a = -1      # Extremo izquierdo del intervalo\n",
    "b = 2       # Extremo derecho del intervalo\n",
    "sol = bisection_method(f, a, b)\n",
    "print(f\"La solución encontrada es x = {sol:.6f}\")\n"
   ]
  },
  {
   "cell_type": "code",
   "execution_count": 26,
   "metadata": {},
   "outputs": [],
   "source": [
    "def bisection_method(f, a, b, tol=1e-6):\n",
    "    \"\"\"\n",
    "    Método de la bisección para encontrar una raíz de una función.\n",
    "    \n",
    "    Parámetros:\n",
    "    f (function): Función para la cual se quiere encontrar una raíz.\n",
    "    a (float): Limite inferior del intervalo de búsqueda.\n",
    "    b (float): Limite superior del intervalo de búsqueda.\n",
    "    tol (float, optional): Tolerancia para la precisión de la raíz. Por defecto es 1e-6.\n",
    "    \n",
    "    Retorna:\n",
    "    float: Valor de la raíz encontrada.\n",
    "    \"\"\"\n",
    "    if f(a) * f(b) > 0:\n",
    "        raise ValueError(\"Los extremos del intervalo deben tener signos opuestos.\")\n",
    "    \n",
    "    while b - a > tol:\n",
    "        c = (a + b) / 2\n",
    "        if f(c) == 0:\n",
    "            return c\n",
    "        elif f(a) * f(c) < 0:\n",
    "            b = c\n",
    "        else:\n",
    "            a = c\n",
    "    \n",
    "    return (a + b) / 2"
   ]
  },
  {
   "cell_type": "code",
   "execution_count": 38,
   "metadata": {},
   "outputs": [
    {
     "name": "stdout",
     "output_type": "stream",
     "text": [
      "1.1920928955078125e-07\n"
     ]
    }
   ],
   "source": [
    "import math \n",
    "\n",
    "def f(x):\n",
    "    return math.sin(x)\n",
    "\n",
    "root = bisection_method(f, -1, 2)\n",
    "print(root)"
   ]
  }
 ],
 "metadata": {
  "kernelspec": {
   "display_name": "Python 3",
   "language": "python",
   "name": "python3"
  },
  "language_info": {
   "codemirror_mode": {
    "name": "ipython",
    "version": 3
   },
   "file_extension": ".py",
   "mimetype": "text/x-python",
   "name": "python",
   "nbconvert_exporter": "python",
   "pygments_lexer": "ipython3",
   "version": "3.13.0"
  }
 },
 "nbformat": 4,
 "nbformat_minor": 2
}
