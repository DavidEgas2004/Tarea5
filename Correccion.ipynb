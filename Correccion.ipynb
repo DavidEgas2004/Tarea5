{
 "cells": [
  {
   "cell_type": "markdown",
   "metadata": {},
   "source": [
    "# Actividad Extra \n",
    "### Correccion del Examen IB \n",
    "\n",
    "Nombre: David Egas"
   ]
  },
  {
   "cell_type": "markdown",
   "metadata": {},
   "source": [
    "## Errores y aritmética  del computador \n",
    "\n",
    "1. Los primeros tres términos diferentes a cero de la serie de Maclaurin para la función arcotangente son:\n",
    "$$x - \\frac{1}{3} \\cdot x^3 + \\frac{1}{5} \\cdot x^5$$\n",
    "\n",
    "Calcule el error relativo en las siguientes aproximaciones de π mediante el polinomio (en lugar del arcotangente).\n",
    "Asuma que π=3.14159. \n",
    "$$4 \\left( \\arctan\\left(\\frac{1}{2}\\right) + \\arctan\\left(\\frac{1}{3}\\right) \\right)$$\n",
    "\n"
   ]
  },
  {
   "cell_type": "markdown",
   "metadata": {},
   "source": [
    "Para este ejercicio es importante saber que: \n",
    "$$x - \\frac{1}{3} \\cdot x^3 + \\frac{1}{5} \\cdot x^5 = arctan$$\n",
    "Ademas que: \n",
    "$$4 \\left( \\arctan\\left(\\frac{1}{2}\\right) + \\arctan\\left(\\frac{1}{3}\\right) \\right) = π* $$\n",
    "Por lo que al remplazar los valores obtenemos:"
   ]
  },
  {
   "cell_type": "code",
   "execution_count": null,
   "metadata": {},
   "outputs": [
    {
     "name": "stdout",
     "output_type": "stream",
     "text": [
      "3.143563950617284\n"
     ]
    }
   ],
   "source": [
    "pi_aprox= 4 * ((1/2 - 1/3 * (1/2)**3 + 1/5 * (1/2)**5) + (1/3 - 1/3 * (1/3)**3 + 1/5**5))\n",
    "print(pi_aprox)"
   ]
  },
  {
   "cell_type": "markdown",
   "metadata": {},
   "source": [
    "Con este valor procedemos a calcular el error para saber en que orden de magnitud se encuentra: "
   ]
  },
  {
   "cell_type": "code",
   "execution_count": null,
   "metadata": {},
   "outputs": [
    {
     "name": "stdout",
     "output_type": "stream",
     "text": [
      "El error relativo es:  0.0006283285270464968\n",
      "Orden de magnitud del error relativo: -4\n"
     ]
    }
   ],
   "source": [
    "error_relativo= abs((3.14159 - pi_aprox)/3.14159)\n",
    "print(\"El error relativo es: \",error_relativo)\n",
    "\n",
    "import math\n",
    "orden_magnitud = math.floor(math.log10(error_relativo))\n",
    "print(\"Orden de magnitud del error relativo:\", orden_magnitud)"
   ]
  },
  {
   "cell_type": "markdown",
   "metadata": {},
   "source": [
    "Sabemos que: \n",
    "$$x - \\frac{1}{3} \\cdot x^3 + \\frac{1}{5} \\cdot x^5 = arctan$$\n",
    "Ademas que: \n",
    "$$16 \\cdot \\arctan\\left(\\frac{1}{5}\\right) - 4 \\cdot \\arctan\\left(\\frac{1}{239}\\right) = π*$$\n",
    "Por lo que  remplazando tenemos: "
   ]
  },
  {
   "cell_type": "code",
   "execution_count": 15,
   "metadata": {},
   "outputs": [
    {
     "name": "stdout",
     "output_type": "stream",
     "text": [
      "3.1416210293250346\n"
     ]
    }
   ],
   "source": [
    "pi_aprox2= 16 * (1/5 - 1/3 * (1/5)**3 + 1/5 * (1/5)**5) - 4 * (1/239 - 1/3 * (1/239)**3 + 1/5 * (1/239)**5)\n",
    "print(pi_aprox2)"
   ]
  },
  {
   "cell_type": "markdown",
   "metadata": {},
   "source": [
    "Con este valor procedemos a calcular el error para saber en que orden de magnitud se encuentra: "
   ]
  },
  {
   "cell_type": "code",
   "execution_count": 16,
   "metadata": {},
   "outputs": [
    {
     "name": "stdout",
     "output_type": "stream",
     "text": [
      "El error relativo es:  9.876949262869153e-06\n",
      "Orden de magnitud del error relativo: -6\n"
     ]
    }
   ],
   "source": [
    "error_relativo2= abs((3.14159 - pi_aprox2)/3.14159)\n",
    "print(\"El error relativo es: \",error_relativo2)\n",
    "\n",
    "import math\n",
    "orden_magnitud2 = math.floor(math.log10(error_relativo2))\n",
    "print(\"Orden de magnitud del error relativo:\", orden_magnitud2)"
   ]
  },
  {
   "cell_type": "markdown",
   "metadata": {},
   "source": [
    "Por lo que se puede concluir que aplicando la segunda ecuacion lleamos a un valor de pi mucho mas cercano. "
   ]
  },
  {
   "cell_type": "markdown",
   "metadata": {},
   "source": [
    "2. Suponga que dos puntos se encuentran en línea recta con \n",
    "Existen dos fórmulas para encontrar la intersección $x$ de la línea:\n",
    "\n",
    "Método A: $$x = \\frac{x_0 \\cdot y_1 - x_1 \\cdot y_0}{y_1 - y_0}$$\n",
    "\n",
    "Método B: $$x = x_0 - \\frac{(x_1 - x_0) \\cdot y_0}{y_1 - y_0}$$\n",
    "\n",
    "Usando los datos $(x_0, y_0) = (1.31, 3.24) \\quad \\text{y} \\quad (x_1, y_1) = (1.93, 4.76)$, determine el valor real de la intersección x (asumiendo redondeo a 6 cifras significativas):"
   ]
  },
  {
   "cell_type": "markdown",
   "metadata": {},
   "source": [
    "Aplicando el método A para hallar el valor de la intersección con $x$ tenemos que: "
   ]
  },
  {
   "cell_type": "code",
   "execution_count": null,
   "metadata": {},
   "outputs": [
    {
     "name": "stdout",
     "output_type": "stream",
     "text": [
      "El valor de la interseccion en x es:  -0.011578947368421534\n",
      "El valor a 6 cifras significativases: -0.0115789\n"
     ]
    }
   ],
   "source": [
    "metodo_A= (1.31 * 4.76 - 1.93 * 3.24) / (4.76 - 3.24) \n",
    "print(\"El valor de la interseccion en x es: \", metodo_A)\n",
    "print(\"El valor a 6 cifras significativases:\",f\"{metodo_A:.7f}\")\n",
    "## En este caso se usa f\"{x:.7f}\" para redondear el valor de x a seis cifras significativas"
   ]
  },
  {
   "cell_type": "markdown",
   "metadata": {},
   "source": [
    "Usando aritmética de computador con redondeo a 3 cifras significativas resuelva para ambos métodos.\n",
    "\n",
    "Usando el método A:"
   ]
  },
  {
   "cell_type": "code",
   "execution_count": null,
   "metadata": {},
   "outputs": [
    {
     "name": "stdout",
     "output_type": "stream",
     "text": [
      " El valor con redondeo a tres cifras usando aritmética de computador es:  -0.0116\n"
     ]
    }
   ],
   "source": [
    "print(\" El valor con redondeo a tres cifras usando aritmética de computador es: \", round(metodo_A, 4))\n",
    "##En este caso se usa round () para redondear el valor de x a tres cifras, \n",
    "##pero se especifica que se redondee a 4 cifras para que se vea el valor exacto del redondeo sea a tres cifras significativas.  "
   ]
  },
  {
   "cell_type": "markdown",
   "metadata": {},
   "source": [
    "El error relativo (redondee al final del cálculo a 3 cifras significativas) del método A"
   ]
  },
  {
   "cell_type": "markdown",
   "metadata": {},
   "source": [
    "Usando aritmética de computador con redondeo a 3 cifras significativas resuelva para ambos métodos.\n",
    "\n",
    "Usando el método B:"
   ]
  },
  {
   "cell_type": "code",
   "execution_count": 42,
   "metadata": {},
   "outputs": [
    {
     "name": "stdout",
     "output_type": "stream",
     "text": [
      "El valor de la interseccion en x es:  -0.011578947368421355\n"
     ]
    }
   ],
   "source": [
    "metodo_B= 1.31 - ((1.93 - 1.31)*3.24) / (4.76 - 3.24)\n",
    "print(\"El valor de la interseccion en x es: \", metodo_B)"
   ]
  },
  {
   "cell_type": "markdown",
   "metadata": {},
   "source": [
    "El error relativo (redondee al final del cálculo a 3 cifras significativas) del método B:"
   ]
  },
  {
   "cell_type": "code",
   "execution_count": 43,
   "metadata": {},
   "outputs": [
    {
     "name": "stdout",
     "output_type": "stream",
     "text": [
      "El valor con redondeo a tres cifras usando aritmética de computador es:  -0.0116\n"
     ]
    }
   ],
   "source": [
    "print(\"El valor con redondeo a tres cifras usando aritmética de computador es: \", round(metodo_B, 4))"
   ]
  },
  {
   "cell_type": "markdown",
   "metadata": {},
   "source": [
    "¿Cuál método es mejor? \n",
    "- Contando el número de operaciones (multiplicaciones) que realiza cada método, podemos ver que el método B es el más eficiente, ya que solo realiza 2 multiplicaciones, mientras que el método A realiza 3 multiplicaciones. Por lo tanto, el método B es mejor y proporciona un valor con un error menor. \n"
   ]
  },
  {
   "cell_type": "markdown",
   "metadata": {},
   "source": [
    "## Solución de ecuaciones en 1 variable"
   ]
  },
  {
   "cell_type": "markdown",
   "metadata": {},
   "source": [
    "El método de Newton para encontrar raíces se basa en la siguiente ecuación:\n",
    "$$x_{n+1} = x_n - \\frac{f(x_n)}{f'(x_n)}$$\n",
    "Cuál es la raíz de la ecuación:\n",
    "$$x^3 + x = 1 + 3x^2$$"
   ]
  },
  {
   "cell_type": "code",
   "execution_count": null,
   "metadata": {},
   "outputs": [
    {
     "name": "stdout",
     "output_type": "stream",
     "text": [
      "2.7692923542386314\n"
     ]
    }
   ],
   "source": [
    "##Para este caso se aplica la libreria scipy.optimize donde importamos newton para resolver la pregunta. \n",
    "from scipy.optimize import newton\n",
    "\n",
    "## Expresamos a la ecuación de una manera más entendible y sencilla por lo que tenemos: \n",
    "# f(x) = x^3 - 3x^2 + x - 1\n",
    "\n",
    "def f(x):\n",
    "    y=x**3 - 3*x**2 + x - 1\n",
    "    return y\n",
    "\n",
    "##Para la aplicacion de newton debemos hallar la derivada de f(x) donde definimos y obtenemos lo siguiente: \n",
    "def fprima(x):\n",
    "    y=3*x**2 - 6*x + 1\n",
    "    return y\n",
    "\n",
    "x0 = 2 #primer valor entero en dar una solucion (prueba y error)\n",
    "sol=newton(func=f, x0=x0, fprime=fprima)\n",
    "print(sol)"
   ]
  },
  {
   "cell_type": "markdown",
   "metadata": {},
   "source": [
    "Qué sucede cuando:"
   ]
  },
  {
   "cell_type": "markdown",
   "metadata": {},
   "source": [
    "- $x_0=3$"
   ]
  },
  {
   "cell_type": "code",
   "execution_count": null,
   "metadata": {},
   "outputs": [
    {
     "name": "stdout",
     "output_type": "stream",
     "text": [
      "2.769292354238632\n"
     ]
    }
   ],
   "source": [
    "x1=3 ##Nombramos como x1 al caso cuando se toma como valor inicial 3\n",
    "sol1=newton(func=f, x0=x1, fprime=fprima)\n",
    "print(sol1)"
   ]
  },
  {
   "cell_type": "markdown",
   "metadata": {},
   "source": [
    "- $x_0=1$"
   ]
  },
  {
   "cell_type": "code",
   "execution_count": null,
   "metadata": {},
   "outputs": [],
   "source": [
    "x2=1 ##Nombramos como x2 al caso cuando se toma como valor inicial 1\n",
    "sol2=newton(func=f, x0=x2, fprime=fprima)\n",
    "print(sol2)"
   ]
  },
  {
   "cell_type": "markdown",
   "metadata": {},
   "source": [
    "RuntimeError: Failed to converge after 50 iterations, value is 1.0.\n",
    "\n",
    "Para el valor de $x_0=1$ no existe solución ya que este no converge a un valor fijo, es decir, diverge u oscila"
   ]
  },
  {
   "cell_type": "markdown",
   "metadata": {},
   "source": [
    "- $x_0=0$"
   ]
  },
  {
   "cell_type": "code",
   "execution_count": null,
   "metadata": {},
   "outputs": [],
   "source": [
    "x3=0 ##Nombramos como x3 al caso cuando se toma como valor inicial 0\n",
    "sol3=newton(func=f, x0=x3, fprime=fprima)    \n",
    "print(sol3) "
   ]
  },
  {
   "cell_type": "markdown",
   "metadata": {},
   "source": [
    "RuntimeError: Failed to converge after 50 iterations, value is 0.0.\n",
    "\n",
    "Para el valor de $x_0=0$ no existe solución ya que este no converge a un valor fijo, es decir, diverge u oscila"
   ]
  },
  {
   "cell_type": "markdown",
   "metadata": {},
   "source": [
    "- $x_0 = 1 + \\frac{\\sqrt{6}}{3}$"
   ]
  },
  {
   "cell_type": "code",
   "execution_count": null,
   "metadata": {},
   "outputs": [],
   "source": [
    "import numpy as np\n",
    "x4= 1 + np.sqrt(6)/3\n",
    "sol4=newton(func=f, x0=x4, fprime=fprima)\n",
    "print(sol4)"
   ]
  },
  {
   "cell_type": "markdown",
   "metadata": {},
   "source": [
    "RuntimeError: Derivative was zero. Failed to converge after 1 iterations, value is 1.8164965809277258.\n",
    "\n",
    "Para este caso existe una divicion para cero, por lo tanto no hay solucion. "
   ]
  },
  {
   "cell_type": "markdown",
   "metadata": {},
   "source": [
    "### Método de la Bisección"
   ]
  },
  {
   "cell_type": "markdown",
   "metadata": {},
   "source": [
    "La función $sin(x)$ tiene infinitas soluciones. \n",
    "\n",
    "¿A cuál solución converge el método de la Bisección en los siguientes intervalos?"
   ]
  },
  {
   "cell_type": "code",
   "execution_count": 49,
   "metadata": {},
   "outputs": [],
   "source": [
    "##Implementamos en código el método de la Bisección donde tenemos: \n",
    "\n",
    "import numpy as np\n",
    "\n",
    "# Método de bisección\n",
    "def bisection(f, a, b, tol=1e-6):\n",
    "    if f(a) * f(b) > 0:\n",
    "        raise ValueError(\"Los extremos del intervalo deben tener signos opuestos.\")\n",
    "    \n",
    "    while b - a > tol:\n",
    "        c = (a + b) / 2\n",
    "        if f(c) == 0:  # Raíz exacta encontrada\n",
    "            return c\n",
    "        elif f(a) * f(c) < 0:\n",
    "            b = c\n",
    "        else:\n",
    "            a = c\n",
    "    \n",
    "    return (a + b) / 2\n",
    "\n",
    "# Definición de la función\n",
    "def f(x):\n",
    "    return np.sin(x)\n"
   ]
  },
  {
   "cell_type": "markdown",
   "metadata": {},
   "source": [
    "- $a = -3.5, \\quad b = 3$"
   ]
  },
  {
   "cell_type": "code",
   "execution_count": null,
   "metadata": {},
   "outputs": [],
   "source": [
    "# Ejecución del método con un intervalo \n",
    "a = -3.5      # Extremo izquierdo del intervalo\n",
    "b = 3      # Extremo derecho del intervalo\n",
    "sol = bisection(f, a, b)\n",
    "print(f\"La solución encontrada es x = {sol:.6f}\") "
   ]
  },
  {
   "cell_type": "markdown",
   "metadata": {},
   "source": [
    "ValueError: Los extremos del intervalo deben tener signos opuestos."
   ]
  },
  {
   "cell_type": "markdown",
   "metadata": {},
   "source": [
    "- $a = 3, \\quad b = 5$"
   ]
  },
  {
   "cell_type": "code",
   "execution_count": 51,
   "metadata": {},
   "outputs": [
    {
     "name": "stdout",
     "output_type": "stream",
     "text": [
      "La solución encontrada es x = 3.141593\n"
     ]
    }
   ],
   "source": [
    "a = 3   # Extremo izquierdo del intervalo\n",
    "b = 5      # Extremo derecho del intervalo\n",
    "sol = bisection(f, a, b)\n",
    "print(f\"La solución encontrada es x = {sol:.6f}\") "
   ]
  },
  {
   "cell_type": "markdown",
   "metadata": {},
   "source": [
    "$a = -4, \\quad b = 5$"
   ]
  },
  {
   "cell_type": "code",
   "execution_count": 52,
   "metadata": {},
   "outputs": [
    {
     "name": "stdout",
     "output_type": "stream",
     "text": [
      "La solución encontrada es x = 3.141593\n"
     ]
    }
   ],
   "source": [
    "a = -4   # Extremo izquierdo del intervalo\n",
    "b = 5      # Extremo derecho del intervalo\n",
    "sol = bisection(f, a, b)\n",
    "print(f\"La solución encontrada es x = {sol:.6f}\") "
   ]
  },
  {
   "cell_type": "markdown",
   "metadata": {},
   "source": [
    "$a = -2.5, \\quad b = -1$"
   ]
  },
  {
   "cell_type": "code",
   "execution_count": null,
   "metadata": {},
   "outputs": [],
   "source": [
    "a = -2.5   # Extremo izquierdo del intervalo\n",
    "b = -1     # Extremo derecho del intervalo\n",
    "sol = bisection(f, a, b)\n",
    "print(f\"La solución encontrada es x = {sol:.6f}\") "
   ]
  },
  {
   "cell_type": "markdown",
   "metadata": {},
   "source": [
    "ValueError: Los extremos del intervalo deben tener signos opuestos."
   ]
  },
  {
   "cell_type": "markdown",
   "metadata": {},
   "source": [
    "$a = -1, \\quad b = 2$"
   ]
  },
  {
   "cell_type": "code",
   "execution_count": 53,
   "metadata": {},
   "outputs": [
    {
     "name": "stdout",
     "output_type": "stream",
     "text": [
      "La solución encontrada es x = 0.000000\n"
     ]
    }
   ],
   "source": [
    "a = -1   # Extremo izquierdo del intervalo\n",
    "b = 2     # Extremo derecho del intervalo\n",
    "sol = bisection(f, a, b)\n",
    "print(f\"La solución encontrada es x = {sol:.6f}\") "
   ]
  },
  {
   "cell_type": "markdown",
   "metadata": {},
   "source": [
    "$a = -5, \\quad b = 4$"
   ]
  },
  {
   "cell_type": "code",
   "execution_count": 54,
   "metadata": {},
   "outputs": [
    {
     "name": "stdout",
     "output_type": "stream",
     "text": [
      "La solución encontrada es x = -3.141593\n"
     ]
    }
   ],
   "source": [
    "a = -5   # Extremo izquierdo del intervalo\n",
    "b = 4     # Extremo derecho del intervalo\n",
    "sol = bisection(f, a, b)\n",
    "print(f\"La solución encontrada es x = {sol:.6f}\") "
   ]
  },
  {
   "cell_type": "markdown",
   "metadata": {},
   "source": [
    "### Método de la secante "
   ]
  },
  {
   "cell_type": "markdown",
   "metadata": {},
   "source": [
    "El método de la Secante se basa en la siguiente fórmula: \n",
    "$$x_n = x_{n-1} - \\frac{y_{n-1} (x_{n-1} - x_{n-2})}{y_{n-1} - y_{n-2}}$$\n",
    "En base a esta fórmula, se ha generado un código. El código funciona correctamente. Sin embargo, al depurarlo y profundizar en su ejecución, usted ha notado que el código realiza llamadas repetitivas e innecesarias. Modifique el código provisto para optimizar el número de llamadas a la función. "
   ]
  },
  {
   "cell_type": "code",
   "execution_count": 55,
   "metadata": {},
   "outputs": [],
   "source": [
    "def secant_method(f, x0, x1, tol=1e-6, max_iter=100):\n",
    "    \"\"\"\n",
    "    Método de la secante optimizado para encontrar la raíz de una función.\n",
    "\n",
    "    Parámetros:\n",
    "    - f: La función para la cual se busca la raíz.\n",
    "    - x0, x1: Valores iniciales de la raíz.\n",
    "    - tol: Tolerancia para la convergencia (default: 1e-6).\n",
    "    - max_iter: Número máximo de iteraciones permitidas (default: 100).\n",
    "\n",
    "    Retorna:\n",
    "    - x_curr: La raíz aproximada de la función.\n",
    "    - iter_count: Número de iteraciones realizadas.\n",
    "    \"\"\"\n",
    "    x_prev = x0\n",
    "    x_curr = x1\n",
    "    f_prev = f(x_prev)  # Almacena f(x_prev)\n",
    "    f_curr = f(x_curr)  # Almacena f(x_curr)\n",
    "    iter_count = 0\n",
    "\n",
    "    while abs(f_curr) > tol and iter_count < max_iter:\n",
    "        # Calcula el siguiente valor usando los resultados almacenados\n",
    "        denominator = f_curr - f_prev\n",
    "        if denominator == 0:\n",
    "            raise ZeroDivisionError(\"División por cero en el cálculo de la secante.\")\n",
    "        \n",
    "        x_next = x_curr - f_curr * (x_curr - x_prev) / denominator\n",
    "\n",
    "        # Actualiza las variables para la siguiente iteración\n",
    "        x_prev, x_curr = x_curr, x_next\n",
    "        f_prev, f_curr = f_curr, f(x_curr)  # Actualiza f(x_prev) y f(x_curr)\n",
    "        iter_count += 1\n",
    "\n",
    "    return x_curr, iter_count"
   ]
  },
  {
   "cell_type": "markdown",
   "metadata": {},
   "source": [
    "Luego de optimizar el código ¿Cuál es el número mínimo de llamadas a la función para llegar a la raíz en el Ejemplo 1?"
   ]
  },
  {
   "cell_type": "code",
   "execution_count": 63,
   "metadata": {},
   "outputs": [
    {
     "name": "stdout",
     "output_type": "stream",
     "text": [
      "Llamada i=1\t x=2.00000\t y=-3.00\n",
      "Llamada i=2\t x=3.00000\t y=2.00\n",
      "Llamada i=3\t x=2.60000\t y=-1.10\n",
      "Llamada i=4\t x=2.74227\t y=-0.20\n",
      "Llamada i=5\t x=2.77296\t y=0.03\n",
      "Llamada i=6\t x=2.76922\t y=-0.00\n",
      "Llamada i=7\t x=2.76929\t y=-0.00\n",
      "Llamada i=8\t x=2.76929\t y=0.00\n",
      "Raíz encontrada: 2.769292 en 6 iteraciones.\n"
     ]
    }
   ],
   "source": [
    "## Función de prueba\n",
    "#Ejemplo 1: \n",
    "i = 0\n",
    "def func(x):\n",
    "    global i\n",
    "    i += 1\n",
    "    y = x**3 - 3 * x**2 + x - 1\n",
    "    print(f\"Llamada i={i}\\t x={x:.5f}\\t y={y:.2f}\")\n",
    "    return y\n",
    "\n",
    "# Llamada al método de la secante\n",
    "raiz, iteraciones = secant_method(func, x0=2, x1=3)\n",
    "print(f\"Raíz encontrada: {raiz:.6f} en {iteraciones} iteraciones.\")"
   ]
  },
  {
   "cell_type": "markdown",
   "metadata": {},
   "source": [
    "- El numero de i se redujo a  $i = 8$  y se encontro la raiz en 6  "
   ]
  },
  {
   "cell_type": "markdown",
   "metadata": {},
   "source": [
    "Luego de optimizar el código ¿Cuál es el número mínimo de llamadas a la función para llegar a la raíz en el Ejemplo 2?"
   ]
  },
  {
   "cell_type": "code",
   "execution_count": 60,
   "metadata": {},
   "outputs": [
    {
     "name": "stdout",
     "output_type": "stream",
     "text": [
      "Llamada i=1\t x=2.00000\t y=1.41\n",
      "Llamada i=2\t x=3.00000\t y=0.64\n",
      "Llamada i=3\t x=3.83460\t y=-0.14\n",
      "Llamada i=4\t x=3.68602\t y=-0.02\n",
      "Llamada i=5\t x=3.66399\t y=0.00\n",
      "Llamada i=6\t x=3.66520\t y=-0.00\n",
      "Llamada i=7\t x=3.66519\t y=-0.00\n",
      "Raiz encontrada: 3.665191 en 5 iteraciones\n"
     ]
    }
   ],
   "source": [
    "i = 0\n",
    "import math\n",
    "\n",
    "\n",
    "def func(x):\n",
    "    global i\n",
    "    i += 1\n",
    "    y = math.sin(x) + 0.5\n",
    "    print(f\"Llamada i={i}\\t x={x:.5f}\\t y={y:.2f}\")\n",
    "    return y\n",
    "\n",
    "# Llamada al método de la secante\n",
    "raiz, iteraciones=secant_method(func, x0=2, x1=3)\n",
    "print(f\"Raiz encontrada: {raiz:.6f} en {iteraciones} iteraciones\")"
   ]
  },
  {
   "cell_type": "markdown",
   "metadata": {},
   "source": [
    "- El numero de i se redujo a  $i = 7$  y se encontro la raiz en 5"
   ]
  },
  {
   "cell_type": "markdown",
   "metadata": {},
   "source": [
    "## Splines cubicos"
   ]
  },
  {
   "cell_type": "markdown",
   "metadata": {},
   "source": [
    "Dados los puntos $(−1,1),(1,3)$. Determine el spline cúbico teniendo en cuenta que $f′(x_0)=1$, $f′(x_n)=2$"
   ]
  },
  {
   "cell_type": "markdown",
   "metadata": {},
   "source": [
    "A continuación, se presentará el desarrollo matemático junto con el grafico del spline cubico correspondiente a la función: \n",
    "Para el desarrollo necesitamos conocer las siguientes ecuaciones que nos ayudaran a encontrar los valores de a, b, c y d. Con los puntos anteriormente mencionados.  \n"
   ]
  },
  {
   "cell_type": "markdown",
   "metadata": {},
   "source": [
    "### Solucion"
   ]
  },
  {
   "cell_type": "markdown",
   "metadata": {},
   "source": [
    "- $S_0$($x_0$)= $y_0$  (1)\n",
    "\n",
    "De esta ecuación tenemos: \n",
    "\n",
    "$a_0$ + $b_0 (x_0 -x_0)$ + $c_0 (x_0 - x_0)^2$ + $d_0 (x_0 - x_0)^3$ = $y_0$ \n",
    "\n",
    "Donde desarrollando y manipulando la ecuación llegamos a que el valor de: \n",
    "\n",
    "$a_0$ = 1"
   ]
  },
  {
   "cell_type": "markdown",
   "metadata": {},
   "source": [
    "- $S_0$($x_1$)= $y_1$  (2)\n",
    "\n",
    "De esta ecuación tenemos: \n",
    "\n",
    "$a_0$ + $b_0 (x_1 -x_0)$ + $c_0 (x_1 - x_0)^2$ + $d_0 (x_1 - x_0)^3$ = $y_1$  \n",
    "\n",
    "1 + $b_0 * (2)$ + $c_0 * (2)^2$ + $d_0 * (2)^3$ = $y_1$  \n",
    "\n",
    "Donde desarrollando y manipulando la ecuación llegamos a la siguiente expresion:\n",
    "\n",
    "2 $b_0$ + 4 $c_0$ + 8 $d_0$ = 2\n",
    "\n",
    "Simplificando: \n",
    "\n",
    "$b_0$ + 2 $c_0$ + 4 $d_0$ = 1 ----- > (3)"
   ]
  },
  {
   "cell_type": "markdown",
   "metadata": {},
   "source": [
    "- $S_0$' ($x_0$)= B Por frontera condicionada, donde se tiene: \n",
    "\n",
    "$S_0$'($x_0$)= 1  \n",
    "\n",
    "De esta ecuación tenemos:\n",
    "\n",
    "$b_0$ + 2 $c_0 (x_0 -x_0)$ + 3 $d_0 (x_0 -x_0)^2$ = 1\n",
    "\n",
    "Desarrollando y manipulando la ecuación llegamos a que el valor de:\n",
    "\n",
    "$b_0$ =1"
   ]
  },
  {
   "cell_type": "markdown",
   "metadata": {},
   "source": [
    "Remplazando el valor de $b_0$ en (3) tenemos la siguiente expresion: \n",
    "\n",
    "2 $c_0$ + 4 $d_0$ = 0  ----- > (4)\n",
    "\n"
   ]
  },
  {
   "cell_type": "markdown",
   "metadata": {},
   "source": [
    "- $S_0$' ($x_1$)= B Por frontera condicionada, donde se tiene: \n",
    "\n",
    "$S_0$'($x_1$)= 2\n",
    "\n",
    "Donde desarrollando y manipulando la ecuación tenemos: \n",
    "\n",
    "$b_0$ + 2 $c_0 (x_1 -x_0)$ + 3 $d_0 (x_1 -x_0)^2$ = 2 \n",
    "\n",
    "1 + 2 $c_0 (2)$ + 3 $d_0 (2)^2$ = 2\n",
    "\n",
    "1 + 4 $c_0$ + 12 $d_0$ = 2\n",
    "\n",
    "4 $c_0$ + 12 $d_0$ = 1 ----- > (5)\n"
   ]
  },
  {
   "cell_type": "markdown",
   "metadata": {},
   "source": [
    "Finalmente, para hallar todos los valores delas incógnitas desarrollamos matemáticamente mediante las ecuaciones (4) y (5): \n",
    "\n",
    "2 $c_0$ + 4 $d_0$ = 0  ----- > (4)\n",
    "\n",
    "4 $c_0$ + 12 $d_0$ = 1 ----- > (5)\n",
    "\n",
    "<------------------------------------>\n",
    "\n",
    "4 $d_0$ = 1\n",
    "\n",
    "Donde llegamos a que el valor de:\n",
    "\n",
    "$d_0$= 1/4 \n",
    "\n",
    "Y remplazando este valor en (4)\n",
    "\n",
    "$c_0$=-1/2 "
   ]
  },
  {
   "cell_type": "markdown",
   "metadata": {},
   "source": [
    "Una vez realizado el desarrollo matemático correspondiente podemos realizar el grafico del Spline que estamos analizando como se muestra a continuación"
   ]
  },
  {
   "cell_type": "code",
   "execution_count": 64,
   "metadata": {},
   "outputs": [],
   "source": [
    "def Spline(x: float, x0: float, pars: dict[str, float]) -> float:\n",
    "    a = pars[\"a\"]\n",
    "    b = pars[\"b\"]\n",
    "    c = pars[\"c\"]\n",
    "    d = pars[\"d\"]\n",
    "    return a + b * (x - x0) + c * (x - x0) ** 2 + d * (x - x0) ** 3"
   ]
  },
  {
   "cell_type": "code",
   "execution_count": 71,
   "metadata": {},
   "outputs": [
    {
     "data": {
      "image/png": "[encoded data removed]",
      "text/plain": [
       "<Figure size 640x480 with 1 Axes>"
      ]
     },
     "metadata": {},
     "output_type": "display_data"
    }
   ],
   "source": [
    "import matplotlib.pyplot as plt\n",
    "import numpy as np\n",
    "\n",
    "xs = [-1, 1]\n",
    "ys = [1, 3]\n",
    "s = [\n",
    "    {\"a\": 1, \"b\": 1, \"c\": -1/2, \"d\": 1/4},\n",
    "]\n",
    "for i, x_i in enumerate(xs[:-1]):\n",
    "    _x = np.linspace(x_i, xs[i + 1], 20)\n",
    "    _y = Spline(_x, x_i, s[i])\n",
    "    plt.plot(_x, _y, color=\"red\")\n",
    "\n",
    "plt.scatter(xs, ys)\n",
    "plt.xlabel(\"x\")\n",
    "plt.ylabel(\"y\")\n",
    "plt.title(\"Interpolación con splines cúbicos\")\n",
    "plt.show()"
   ]
  },
  {
   "cell_type": "markdown",
   "metadata": {},
   "source": [
    "Dados los puntos $(−1,1),(0,5),(1,3)$, se ha obtenido los splines cúbicos correspondientes. Sin embargo, al observar la figura, usted no se siente satisfecho con la pendiente resultante en el $(x_1, y_1)$  Y decide intentar una modificación a las ecuaciones, tal que los splines sean tangentes a una pendiente deseada $m=-2$ en el punto $(x_1, y_1)$"
   ]
  },
  {
   "cell_type": "markdown",
   "metadata": {},
   "source": [
    "### Solucion "
   ]
  },
  {
   "cell_type": "markdown",
   "metadata": {},
   "source": [
    "- $S_0$($x_0$)= $y_0$  (1)\n",
    "\n",
    "De esta ecuación tenemos: \n",
    "\n",
    "$a_0$ + $b_0 (x_0 -x_0)$ + $c_0 (x_0 - x_0)^2$ + $d_0 (x_0 - x_0)^3$ = $y_0$ \n",
    "\n",
    "Donde desarrollando y manipulando la ecuación llegamos a que el valor de: \n",
    "\n",
    "$a_0$ = 1"
   ]
  },
  {
   "cell_type": "markdown",
   "metadata": {},
   "source": [
    "- $S_0$($x_1$)= $y_1$  (2)\n",
    "\n",
    "De esta ecuación tenemos: \n",
    "\n",
    "$a_0$ + $b_0 (x_1 -x_0)$ + $c_0 (x_1 - x_0)^2$ + $d_0 (x_1 - x_0)^3$ = $y_1$  \n",
    "\n",
    "1 + $b_0 * (1)$ + $c_0 * (1)^2$ + $d_0 * (1)^3$ = 5  \n",
    "\n",
    "Donde desarrollando y manipulando la ecuación llegamos a la siguiente expresion:\n",
    "\n",
    "$b_0$ +  $c_0$ +  $d_0$ = 4 ----- > (3)\n"
   ]
  },
  {
   "cell_type": "markdown",
   "metadata": {},
   "source": [
    "- $S_1$($x_1$)= $y_1$\n",
    "\n",
    "De esta ecuación tenemos: \n",
    "\n",
    "$a_1$ + $b_1 (x_1 -x_1)$ + $c_1 (x_1 - x_1)^2$ + $d_1 (x_1 - x_1)^3$ = $y_1$ \n",
    "\n",
    "Donde desarrollando y manipulando la ecuación llegamos a que el valor de: \n",
    "\n",
    "$a_1$ = 5"
   ]
  },
  {
   "cell_type": "markdown",
   "metadata": {},
   "source": [
    "- $S_1$($x_2$)= $y_2$\n",
    "\n",
    "De esta ecuación tenemos: \n",
    "\n",
    "$a_1$ + $b_1 (x_2 -x_1)$ + $c_1 (x_2 - x_1)^2$ + $d_1 (x_2 - x_1)^3$ = $y_2$\n",
    "\n",
    "5 + $b_1 (1)$ + $c_1 (1)^2$ + $d_1 (1)^3$ = 3\n",
    "\n",
    "Donde desarrollando y manipulando la ecuación llegamos a: \n",
    "\n",
    "2 = $b_1$ + $c_1$  + $d_1$ ------> (4)"
   ]
  },
  {
   "cell_type": "markdown",
   "metadata": {},
   "source": [
    "- $S_0$' ($x_1$)= $S_1$' ($x_1$)\n",
    "\n",
    "De esta ecuación tenemos el siguiete desarrollo: \n",
    "\n",
    "$b_0$ + 2 $c_0 (x_1 - x_0)$ + 3 $d_0 (x_1 -x_0)^2$ = $b_1$ + 2 $c_1 (x_1 - x_1)$ + 3 $d_1 (x_1 -x_1)^2$\n",
    "\n",
    "Donde manipulando la ecuación llegamos a:\n",
    "\n",
    "$b_0$ + 2 $c_0 (1)$ + 3 $d_0 (1)^2$ = $b_1$ -------> (5)"
   ]
  },
  {
   "cell_type": "markdown",
   "metadata": {},
   "source": [
    "- $S_0$'' ($x_0$) = 0\n",
    "\n",
    "De esta ecuación tenemos el siguiete desarrollo: \n",
    "\n",
    "2 $c_0$ + 6 $d_0 (x_0 -x_0)$ = 0\n",
    "\n",
    "2 $c_0$ + 6 $d_0 (0)$ = 0\n",
    "\n",
    "Donde desarrollando y manipulando la ecuación llegamos a que el valor de: \n",
    "\n",
    "$c_0$ = 0\n"
   ]
  },
  {
   "cell_type": "markdown",
   "metadata": {},
   "source": [
    "- $S_1$'' ($x_2$) = 0\n",
    "\n",
    "De esta ecuación tenemos el siguiete desarrollo:\n",
    "\n",
    "2 $c_1$ + 6 $d_1 (x_2 -x_1)$ = 0\n",
    "\n",
    "2 $c_1$ + 6 $d_1$ = 0\n",
    "\n",
    "Donde  manipulando la ecuación tenemos: \n",
    "\n",
    "$c_1$ = -3 $d_1$"
   ]
  },
  {
   "cell_type": "markdown",
   "metadata": {},
   "source": [
    "En esta ecuación hacemos cumplir la condición mencionada en el ejercicio por lo que tenemos:\n",
    "\n",
    "- $S_1$' ($x_1$) = -2\n",
    "\n",
    "$b_1$ + 2 $c_1 (x_1 - x_1)$ + 3 $d_1 (x_1 -x_1)^2$ = -2\n",
    "\n",
    "\n",
    "$b_1$ + 2 $c_1 (0)$ + 3 $d_1 (0)^2$ = -2\n",
    "\n",
    "Por lo que tenenmos que: \n",
    "\n",
    "$b_1$ = -2 \n",
    "\n"
   ]
  },
  {
   "cell_type": "markdown",
   "metadata": {},
   "source": [
    "Una vez encontradas todas las ecuaciones que nos ayudaran a hallar los valores de a,b,c y d en el primer y segundo Spline respectivamente y manipulando matemáticamente cada una de las expresiones como resultado llegamos a los siguientes resultados: \n",
    "\n",
    "Spline 1: $a_0$=1, $b_0$=7, $c_0$= 0, $d_0$=-3\n",
    "\n",
    "Spline 2: $a_1$=5, $b_1$=-2, $c_1$= 0, $d_1$=0\n",
    "\n",
    "Con esto en claro, podemos realizar el grafico de los Splines que estamos analizando como se muestra a continuación:\n"
   ]
  },
  {
   "cell_type": "code",
   "execution_count": 72,
   "metadata": {},
   "outputs": [
    {
     "data": {
      "image/png": "[encoded data removed]",
      "text/plain": [
       "<Figure size 640x480 with 1 Axes>"
      ]
     },
     "metadata": {},
     "output_type": "display_data"
    }
   ],
   "source": [
    "import matplotlib.pyplot as plt\n",
    "import numpy as np\n",
    "\n",
    "xs = [-1, 0, 1]\n",
    "ys = [1, 5, 3]\n",
    "s = [\n",
    "    {\"a\": 1, \"b\": 7, \"c\": 0, \"d\":-3},\n",
    "    {\"a\": 5, \"b\":-2, \"c\": 0, \"d\": 0}\n",
    "]\n",
    "for i, x_i in enumerate(xs[:-1]):\n",
    "    _x = np.linspace(x_i, xs[i + 1], 20)\n",
    "    _y = Spline(_x, x_i, s[i])\n",
    "    plt.plot(_x, _y, color=\"red\")\n",
    "\n",
    "plt.scatter(xs, ys)\n",
    "plt.xlabel(\"x\")\n",
    "plt.ylabel(\"y\")\n",
    "plt.title(\"Interpolación con splines cúbicos\")\n",
    "plt.show()"
   ]
  },
  {
   "cell_type": "markdown",
   "metadata": {},
   "source": [
    "## Polinomios de Lagrange "
   ]
  },
  {
   "cell_type": "markdown",
   "metadata": {},
   "source": [
    "La interpolación de un conjunto de puntos usando polinomios de Lagrange P(x) está dada por la fórmula:\n",
    "\n",
    "$$P(x) = \\sum_{k=0}^{n} f(x_k) L_k(x)$$\n",
    "\n",
    "Donde: \n",
    "\n",
    "$$L_k(x) = \\prod_{\\substack{i=0 \\\\ i \\neq k}}^{n} \\frac{x - x_i}{x_k - x_i}$$\n",
    "Dados los puntos (0,0),(1,1),(2,2),(3,3). "
   ]
  },
  {
   "cell_type": "markdown",
   "metadata": {},
   "source": [
    "### Solucion"
   ]
  },
  {
   "cell_type": "markdown",
   "metadata": {},
   "source": [
    "Dado el ejercicio podemos saber que n=4 por lo que tenemos: \n",
    "\n",
    "- k=0\n",
    "\n",
    "$L_0(x)$= $\\frac{(x - x_1)(x - x_2)(x - x_3)}{(x_0 - x_1)(x_0 - x_2)(x_0 - x_3)}$\n",
    "\n",
    "Remplazando los valores tenemos: \n",
    "\n",
    "$L_0(x)$= $\\frac{(x - x_1)(x - x_2)(x - x_3)}{(0 - 1)(0 - 2)(0 - 3)}$\n",
    "\n",
    "$L_0(x)$= $\\frac{(x - x_1)(x - x_2)(x - x_3)}{-6}$\n",
    "\n",
    " \n"
   ]
  },
  {
   "cell_type": "markdown",
   "metadata": {},
   "source": [
    "- k=1\n",
    "\n",
    "$L_1(x)$= $\\frac{(x - x_0)(x - x_2)(x - x_3)}{(x_1 - x_0)(x_1 - x_2)(x_1 - x_3)}$\n",
    "\n",
    "Remplazando los valores tenemos: \n",
    "\n",
    "$L_1(x)$= $\\frac{(x - 0)(x - 2)(x - 3)}{(1 - 0)(1 - 2)(1 - 3)}$\n",
    "\n",
    "$L_1(x)$= $\\frac{(x - 0)(x - 2)(x - 3)}{-2}$"
   ]
  },
  {
   "cell_type": "markdown",
   "metadata": {},
   "source": [
    "- k=2\n",
    "\n",
    "$L_2(x)$= $\\frac{(x - x_0)(x - x_1)(x - x_3)}{(x_2 - x_0)(x_2 - x_1)(x_2 - x_3)}$\n",
    "\n",
    "Remplazando los valores tenemos: \n",
    "\n",
    "$L_2(x)$= $\\frac{(x - 0)(x - 1)(x - 3)}{(2 - 0)(2 - 1)(2 - 3)}$\n",
    "\n",
    "$L_2(x)$= $\\frac{(x - 0)(x - 1)(x - 3)}{2}$"
   ]
  },
  {
   "cell_type": "markdown",
   "metadata": {},
   "source": [
    "- k=3\n",
    "\n",
    "$L_3(x)$= $\\frac{(x - x_0)(x - x_1)(x - x_2)}{(x_3 - x_0)(x_3 - x_1)(x_3 - x_2)}$\n",
    "\n",
    "Remplazando los valores tenemos: \n",
    "\n",
    "$L_3(x)$= $\\frac{(x - 0)(x - 1)(x - 2)}{(3 - 0)(3 - 1)(3 - 2)}$\n",
    "\n",
    "$L_3(x)$= $\\frac{(x - 0)(x - 1)(x - 2)}{6}$"
   ]
  },
  {
   "cell_type": "markdown",
   "metadata": {},
   "source": [
    "P(x)= $f(x_0) L_0(x)$ + $f(x_1) L_1(x)$ + $f(x_2) L_2(x)$ + $f(x_3) L_3(x)$ "
   ]
  },
  {
   "cell_type": "markdown",
   "metadata": {},
   "source": [
    "Donde operando llegamos a lo siguiente: \n",
    "\n",
    "$$P(x) = 0 + \\frac{1}{2}(x^3 - 5x^2 + 6x) + 2 \\left(-\\frac{1}{2}\\right) (x^3 - 4x^2 + 3x) + 3 \\left(\\frac{1}{6}\\right) (x^3 - 3x^2 + 2x)$$\n",
    "\n",
    "\n",
    "$$P(x)= 0 + \\frac{x^3}{2} - \\frac{5x^2}{2} + 3x - x^3 + 4x^2 - 3x + \\frac{x^3}{2} - \\frac{3}{2}x^2 + x$$\n",
    "\n",
    "\n",
    "$$P(x)= x$$\n"
   ]
  },
  {
   "cell_type": "markdown",
   "metadata": {},
   "source": [
    "Una vez obtenido P(x) podemos responder las siguientes preguntas: "
   ]
  },
  {
   "cell_type": "markdown",
   "metadata": {},
   "source": [
    "- El polinomio resultante simplificado tiene orden = 1\n",
    "- Usando el polinomio P(x) que obtuvo de respuesta, calcule:\n",
    "\n",
    "P(x=3.78)= 3.78\n",
    "\n",
    "P(x=19.102)= 19.102"
   ]
  }
 ],
 "metadata": {
  "kernelspec": {
   "display_name": "Python 3",
   "language": "python",
   "name": "python3"
  },
  "language_info": {
   "codemirror_mode": {
    "name": "ipython",
    "version": 3
   },
   "file_extension": ".py",
   "mimetype": "text/x-python",
   "name": "python",
   "nbconvert_exporter": "python",
   "pygments_lexer": "ipython3",
   "version": "3.13.0"
  }
 },
 "nbformat": 4,
 "nbformat_minor": 2
}
