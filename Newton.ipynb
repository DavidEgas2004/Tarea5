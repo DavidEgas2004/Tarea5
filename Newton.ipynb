{
 "cells": [
  {
   "cell_type": "code",
   "execution_count": 2,
   "metadata": {},
   "outputs": [],
   "source": [
    "import math \n",
    "def f(x):\n",
    "    y = x**3 -3*x**2 + x - 1\n",
    "    return y"
   ]
  },
  {
   "cell_type": "code",
   "execution_count": 3,
   "metadata": {},
   "outputs": [],
   "source": [
    "def fprima(x):\n",
    "    y=3*x**2 -6*x + 1\n",
    "    return y"
   ]
  },
  {
   "cell_type": "code",
   "execution_count": 11,
   "metadata": {},
   "outputs": [
    {
     "name": "stdout",
     "output_type": "stream",
     "text": [
      "2.7692923542386314\n"
     ]
    }
   ],
   "source": [
    "from scipy.optimize import newton\n",
    "import numpy as np\n",
    "\n",
    "x0 =2\n",
    "mnewton=newton(f, x0, fprime=fprima)\n",
    "print(mnewton)"
   ]
  }
 ],
 "metadata": {
  "kernelspec": {
   "display_name": "Python 3",
   "language": "python",
   "name": "python3"
  },
  "language_info": {
   "codemirror_mode": {
    "name": "ipython",
    "version": 3
   },
   "file_extension": ".py",
   "mimetype": "text/x-python",
   "name": "python",
   "nbconvert_exporter": "python",
   "pygments_lexer": "ipython3",
   "version": "3.13.0"
  }
 },
 "nbformat": 4,
 "nbformat_minor": 2
}
