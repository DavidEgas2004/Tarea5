{
 "cells": [
  {
   "cell_type": "markdown",
   "metadata": {},
   "source": [
    "## Tarea Nro 5 Metodo de Newton y Metodo de la Secante \n",
    "Nombre: David Egas \n"
   ]
  },
  {
   "cell_type": "markdown",
   "metadata": {},
   "source": [
    "## - Ejercicio 1:\n",
    "\n",
    "Sea 𝑓(𝑥) = −$x^3$ − cos (𝑥) y 𝑝0 = −1. Use el método de Newton y de la Secante para encontrar 𝑝2. "
   ]
  },
  {
   "cell_type": "markdown",
   "metadata": {},
   "source": [
    "Definimos la funcion para aplicar el metodo de la secante: "
   ]
  },
  {
   "cell_type": "code",
   "execution_count": 3,
   "metadata": {},
   "outputs": [],
   "source": [
    "import math \n",
    "def f(x):\n",
    "    y = -x**3 - math.cos(x)\n",
    "    return y"
   ]
  },
  {
   "cell_type": "markdown",
   "metadata": {},
   "source": [
    "Definimos los elementos iniciales para aplicar el metodo de le sacente:"
   ]
  },
  {
   "cell_type": "code",
   "execution_count": null,
   "metadata": {},
   "outputs": [
    {
     "name": "stdout",
     "output_type": "stream",
     "text": [
      "-0.8654740331016144\n"
     ]
    }
   ],
   "source": [
    "from scipy.optimize import newton\n",
    "\n",
    "x0 = -1\n",
    "msecante=newton(f, x0)\n",
    "print(msecante) ##hallar p2 con el metodo de la secante "
   ]
  },
  {
   "cell_type": "markdown",
   "metadata": {},
   "source": [
    "Definimos los elementos necesarios para el metodo de newton:"
   ]
  },
  {
   "cell_type": "code",
   "execution_count": 8,
   "metadata": {},
   "outputs": [],
   "source": [
    "def fprima(x):\n",
    "    y = -3*x**2 + math.sin(x)\n",
    "    return y"
   ]
  },
  {
   "cell_type": "code",
   "execution_count": null,
   "metadata": {},
   "outputs": [
    {
     "name": "stdout",
     "output_type": "stream",
     "text": [
      "-0.8654740331016144\n"
     ]
    }
   ],
   "source": [
    "from scipy.optimize import newton\n",
    "x0=-1\n",
    "mnewton= newton(func= f,x0=-1, fprime= fprima)\n",
    "print(mnewton) ##hallar p2 con el metodo de newton"
   ]
  },
  {
   "cell_type": "markdown",
   "metadata": {},
   "source": [
    "¿Se podría usar 𝑝0 = 0? "
   ]
  },
  {
   "cell_type": "code",
   "execution_count": 12,
   "metadata": {},
   "outputs": [
    {
     "name": "stdout",
     "output_type": "stream",
     "text": [
      "-4.998000183473029e-09\n"
     ]
    }
   ],
   "source": [
    "##Usando p0=0 con el metodod de la secante tenemos: \n",
    "xi=0\n",
    "msecante= newton(f, xi)\n",
    "print(msecante)\n"
   ]
  },
  {
   "cell_type": "markdown",
   "metadata": {},
   "source": [
    "Con este resultado podemos observar que el punto p0=0 no es una buena aproximacion como punto de partida ya que el valor de la función en ese punto es 0, por lo que no podemos obtener una buena aproximacion al resultado real donde la funcion converge como vemos en los puntos anteriores. Por lo tanto, debemos elegir un punto de partida que se encuentre en el dominio de la funcion. "
   ]
  },
  {
   "cell_type": "markdown",
   "metadata": {},
   "source": [
    "## -Ejercicio 2: \n",
    "Encuentre soluciones precisas dentro de e−4 para los siguientes problemas: \n",
    "Para la resolucion de estos problemas se utilizara el metodo de la secante. "
   ]
  },
  {
   "cell_type": "markdown",
   "metadata": {},
   "source": [
    "a. $$x^3 - 2x^2 - 5 = 0, \\quad [1, 4]$$"
   ]
  },
  {
   "cell_type": "code",
   "execution_count": 13,
   "metadata": {},
   "outputs": [],
   "source": [
    "from scipy.optimize import newton"
   ]
  },
  {
   "cell_type": "code",
   "execution_count": 15,
   "metadata": {},
   "outputs": [
    {
     "name": "stdout",
     "output_type": "stream",
     "text": [
      "2.6906484961992585\n"
     ]
    }
   ],
   "source": [
    "a= newton(func= lambda x: x**3 - 2*x**2 - 5 , x0=1, tol= 10e-4,x1=4)\n",
    "print(a) "
   ]
  },
  {
   "cell_type": "markdown",
   "metadata": {},
   "source": [
    "b. \n",
    "$$x^3 + 3x^2 - 1 = 0, \\quad [-3, -2]$$"
   ]
  },
  {
   "cell_type": "code",
   "execution_count": 17,
   "metadata": {},
   "outputs": [
    {
     "name": "stdout",
     "output_type": "stream",
     "text": [
      "-2.879385194736809\n"
     ]
    }
   ],
   "source": [
    "b= newton(func= lambda x: x**3 + 3*x**2 - 1 , x0=-3, tol= 10e-4,x1=-2)\n",
    "print(b) "
   ]
  },
  {
   "cell_type": "markdown",
   "metadata": {},
   "source": [
    "c. $$x - \\cos x = 0, \\quad \\left[0, \\frac{\\pi}{2}\\right]$$"
   ]
  },
  {
   "cell_type": "code",
   "execution_count": 18,
   "metadata": {},
   "outputs": [
    {
     "name": "stdout",
     "output_type": "stream",
     "text": [
      "0.7390834365030763\n"
     ]
    }
   ],
   "source": [
    "import math \n",
    "c= newton(func= lambda x: x - math.cos(x) , x0=0, tol= 10e-4,x1=(math.pi/2))\n",
    "print(c)"
   ]
  },
  {
   "cell_type": "markdown",
   "metadata": {},
   "source": [
    "d. $$x - 0.8 - 0.2 \\sin x = 0, \\quad \\left[0, \\frac{\\pi}{2}\\right]$$"
   ]
  },
  {
   "cell_type": "code",
   "execution_count": 19,
   "metadata": {},
   "outputs": [
    {
     "name": "stdout",
     "output_type": "stream",
     "text": [
      "0.9643338835706312\n"
     ]
    }
   ],
   "source": [
    "import math \n",
    "d= newton(func= lambda x: x - 0.8 - 0.2*math.sin(x) , x0=0, tol= 10e-4, x1=(math.pi/2))\n",
    "print(d)"
   ]
  },
  {
   "cell_type": "markdown",
   "metadata": {},
   "source": [
    "## -Ejercicio 3: \n",
    "Use los 2 métodos en esta sección para encontrar las soluciones dentro de 10−5 para los siguientes problemas: "
   ]
  },
  {
   "cell_type": "markdown",
   "metadata": {},
   "source": [
    "a. $$3x - e^x = 0, \\quad 1 \\leq x \\leq 2$$"
   ]
  },
  {
   "cell_type": "code",
   "execution_count": 25,
   "metadata": {},
   "outputs": [
    {
     "name": "stdout",
     "output_type": "stream",
     "text": [
      "1.5121345517620621\n"
     ]
    }
   ],
   "source": [
    "#Usando el metodo de la secante tenemos: \n",
    "secante_a= newton(func=lambda x: 3*x - math.exp(x) , x0=1 , tol=10e-5, x1=2)\n",
    "print (secante_a)"
   ]
  },
  {
   "cell_type": "code",
   "execution_count": 26,
   "metadata": {},
   "outputs": [
    {
     "name": "stdout",
     "output_type": "stream",
     "text": [
      "0.6190612833553127\n"
     ]
    }
   ],
   "source": [
    "#Usando el metodo de newton\n",
    "newton_a=newton(func= lambda x: 3*x - math.exp(x), x0=1, fprime= lambda x: 3 - math.exp(x) ,tol=10e-5, x1=2)\n",
    "print(newton_a)"
   ]
  },
  {
   "cell_type": "code",
   "execution_count": 34,
   "metadata": {},
   "outputs": [
    {
     "data": {
      "image/png": "[encoded data removed]",
      "text/plain": [
       "<Figure size 800x600 with 1 Axes>"
      ]
     },
     "metadata": {},
     "output_type": "display_data"
    }
   ],
   "source": [
    "#Grafica de las funciones\n",
    "import numpy as np\n",
    "import matplotlib.pyplot as plt  \n",
    "\n",
    "func = lambda x: 3 * x - math.exp(x) #definimos de nuevo la funcion para la grafica \n",
    "x_vals = np.linspace(0, 2, 100)\n",
    "y_vals = [3 * x - np.exp(x) for x in x_vals]\n",
    "\n",
    "# Graficar la función\n",
    "plt.figure(figsize=(8, 6))\n",
    "plt.plot(x_vals, y_vals, label=r\"$f(x) = 3x - e^x$\", linestyle= \"--\", color=\"blue\")\n",
    "plt.axhline(0, color=\"black\", linewidth=0.8, linestyle=\"--\")\n",
    "plt.scatter(newton_a, func(newton_a), color=\"red\", label=f\"Raíz Newton: x = {newton_a:.5f}\") #Raiz del metodo de newton \n",
    "plt.scatter(secante_a, func(secante_a), color=\"green\", label= f\"Raiz Secante: x={secante_a:.5f}\")# Raiz del metodod de la secante \n",
    "plt.xlabel(\"x\")\n",
    "plt.ylabel(\"f(x)\")\n",
    "plt.title(\"Raices del Metodo de Newton y Secante\")\n",
    "plt.legend()\n",
    "plt.grid(True)"
   ]
  },
  {
   "cell_type": "markdown",
   "metadata": {},
   "source": [
    "Como podemos observar el metodo de la secante si encuentra la raiz dentro del intervalo que se indica en el ejercicio de color verde, mientras que el metodo de newton encuentra una raiz pero que no se encuentra dentro del intervalo solicitado dado que en algun punto la pendiente de la recta tangente converge al lado izquierdo. Pero las dos respuestas son validas y correctas. "
   ]
  },
  {
   "cell_type": "markdown",
   "metadata": {},
   "source": [
    "b. $$2x + 3 \\cos x - e^x = 0, \\quad 1 \\leq x \\leq 2$$"
   ]
  },
  {
   "cell_type": "code",
   "execution_count": 35,
   "metadata": {},
   "outputs": [
    {
     "name": "stdout",
     "output_type": "stream",
     "text": [
      "1.2397146920815107\n"
     ]
    }
   ],
   "source": [
    "#Usando el metodo de la secante tenemos: \n",
    "secante_b= newton(func=lambda x: 2*x + 3*math.cos(x) - math.exp(x) , x0=1 , tol=10e-5, x1=2)\n",
    "print (secante_b)"
   ]
  },
  {
   "cell_type": "code",
   "execution_count": 36,
   "metadata": {},
   "outputs": [
    {
     "name": "stdout",
     "output_type": "stream",
     "text": [
      "1.2397574623516696\n"
     ]
    }
   ],
   "source": [
    "#Usando el metodo de newton\n",
    "newton_b= newton(func= lambda x: 2*x + 3*math.cos(x) - math.exp(x), x0=1, fprime= lambda x: 2 - math.sin(x) - math.exp(x) \n",
    "                ,tol=10e-5, x1=2)\n",
    "print(newton_b)"
   ]
  },
  {
   "cell_type": "markdown",
   "metadata": {},
   "source": [
    "Para el caso del ejercicio b podemos observar que las respuestas son bastante parecidas por lo que los dos metodo convergen a la misma solucion y al mismo lado dentro del intervalo que se requiere.  "
   ]
  },
  {
   "cell_type": "markdown",
   "metadata": {},
   "source": [
    "## -Ejercicio 4: \n",
    "\n",
    "El polinomio de cuarto grado: $$f(x) = 230x^4 + 18x^3 + 9x^2 - 221x - 9$$\n",
    "tiene dos ceros reales, uno en [−1,0] y el otro en [0,1]. Intente aproximar estos ceros dentro de 10−6 con: \n",
    "\n",
    "a. El método de la secante (use los extremos como las estimaciones iniciales)\n",
    "\n",
    "b. El método de Newton (use el punto medio como estimación inicial)"
   ]
  },
  {
   "cell_type": "code",
   "execution_count": 43,
   "metadata": {},
   "outputs": [],
   "source": [
    "##Definimos la funcion para este ejercicio: \n",
    "def f1(x): \n",
    "    y= 230*x**4 + 18*x**3 + 9*x**2 - 221*x - 9 \n",
    "    return y\n",
    "def fpri(x):\n",
    "    y=920*x**3 + 54*x**2 + 18*x - 221\n",
    "    return y"
   ]
  },
  {
   "cell_type": "code",
   "execution_count": 44,
   "metadata": {},
   "outputs": [
    {
     "name": "stdout",
     "output_type": "stream",
     "text": [
      "-0.04065928497591696\n"
     ]
    }
   ],
   "source": [
    "#Literal a: Aplicacion del metodo de la secante \n",
    "#Para el intervalo de [-1;0]\n",
    "intervalo1=newton(func=f1, x0=-1, tol=10e-6, x1=0)\n",
    "print(intervalo1)\n"
   ]
  },
  {
   "cell_type": "code",
   "execution_count": 45,
   "metadata": {},
   "outputs": [
    {
     "name": "stdout",
     "output_type": "stream",
     "text": [
      "-0.04065928497591696\n"
     ]
    }
   ],
   "source": [
    "#Para el intervalo de [1;0]\n",
    "intervalo2=newton(func=f1, x0=0, tol=10e-6, x1=-1)\n",
    "print(intervalo2)"
   ]
  },
  {
   "cell_type": "markdown",
   "metadata": {},
   "source": [
    "Como podemos observar el metodod de la secante nos da resultados similares, es decir que convergen al mismo punto tanto en el intrvalo de la derecha como en el de la izquierda. Por lo tanto, podemos concluir que Si en ambos intervalos \n",
    "[−1,0] y [0,1] la secante  converge al mismo punto, esto sugiere que f(x) cambia de signo en ambos y que el punto donde convergen es efectivamente una raíz."
   ]
  },
  {
   "cell_type": "code",
   "execution_count": 47,
   "metadata": {},
   "outputs": [
    {
     "name": "stdout",
     "output_type": "stream",
     "text": [
      "-0.04065928831575899\n"
     ]
    }
   ],
   "source": [
    "#Literal b. Uso del metodo de Newton \n",
    "#Para el intervalo de [-1;0]\n",
    "raiz1Newton=newton(func=f1, x0=-0.5,tol=10e-6, fprime=fpri)\n",
    "print(raiz1Newton)"
   ]
  },
  {
   "cell_type": "code",
   "execution_count": 48,
   "metadata": {},
   "outputs": [
    {
     "name": "stdout",
     "output_type": "stream",
     "text": [
      "-0.040659288315758865\n"
     ]
    }
   ],
   "source": [
    "#Para el intervalo de [1;0]\n",
    "raiz1Newton=newton(func=f1, x0=0.5,tol=10e-6, fprime=fpri)\n",
    "print(raiz1Newton)"
   ]
  },
  {
   "cell_type": "markdown",
   "metadata": {},
   "source": [
    "Con esto podemos comprobar que usando ambos metodos en los distintos intervalos converge a la misma solucion. "
   ]
  },
  {
   "cell_type": "markdown",
   "metadata": {},
   "source": [
    "## -Ejercicio 5:\n",
    "La función 𝑓(𝑥) = tan 𝜋 𝑥 − 6 tiene cero en (1⁄𝜋) arcotangente 6 ≈ 0.447431543. Sea 𝑝0 = 0 y 𝑝1 = 0.48\n",
    "y use 10 iteraciones en cada uno de los siguientes métodos para aproximar esta raíz. ¿Cuál método es más\n",
    "eficaz y por qué?"
   ]
  },
  {
   "cell_type": "code",
   "execution_count": null,
   "metadata": {},
   "outputs": [
    {
     "name": "stdout",
     "output_type": "stream",
     "text": [
      "Raíz encontrada: x = 0.44742 en 10 iteraciones.\n"
     ]
    }
   ],
   "source": [
    "##USANDO EL METODOD DE LA BISECCION: \n",
    "\n",
    "def biseccion(func, a, b, tol, max_iter=10):\n",
    "    if func(a) * func(b) > 0: #verifica que l afuncion tenga un intervalo de analisis valido\n",
    "        raise ValueError(\"La función no cambia de signo en el intervalo [a, b].\")\n",
    "\n",
    "    iteraciones = 0\n",
    "    while (b - a) / 2 > tol and iteraciones < max_iter:\n",
    "        c = (a + b) / 2  # Punto medio\n",
    "        if func(c) == 0:  # Encontró la raíz exacta\n",
    "            return c, iteraciones\n",
    "        elif func(a) * func(c) < 0:\n",
    "            b = c  # La raíz está en [a, c]\n",
    "        else:\n",
    "            a = c  # La raíz está en [c, b]\n",
    "\n",
    "        iteraciones += 1\n",
    "\n",
    "    # Retorna la raíz aproximada y el número de iteraciones\n",
    "    c = (a + b) / 2\n",
    "    return c, iteraciones\n",
    "\n",
    "func= lambda x: math.tan(math.pi * x)-6\n",
    "a,b= 0, 0.48\n",
    "tol= 10e-6\n",
    "\n",
    "try:\n",
    "    raiz, num_iter = biseccion(func, a, b, tol)\n",
    "    print(f\"Raíz encontrada: x = {raiz:.5f} en {num_iter} iteraciones.\")\n",
    "except ValueError as e:\n",
    "    print(e)"
   ]
  },
  {
   "cell_type": "code",
   "execution_count": 57,
   "metadata": {},
   "outputs": [
    {
     "ename": "RuntimeError",
     "evalue": "Failed to converge after 10 iterations, value is 13.655012218663387.",
     "output_type": "error",
     "traceback": [
      "\u001b[1;31m---------------------------------------------------------------------------\u001b[0m",
      "\u001b[1;31mRuntimeError\u001b[0m                              Traceback (most recent call last)",
      "Cell \u001b[1;32mIn[57], line 13\u001b[0m\n\u001b[0;32m     10\u001b[0m     y\u001b[38;5;241m=\u001b[39m math\u001b[38;5;241m.\u001b[39mpi \u001b[38;5;241m*\u001b[39m (\u001b[38;5;241m1\u001b[39m\u001b[38;5;241m/\u001b[39mmath\u001b[38;5;241m.\u001b[39mcos(math\u001b[38;5;241m.\u001b[39mpi \u001b[38;5;241m*\u001b[39m x)\u001b[38;5;241m*\u001b[39m\u001b[38;5;241m*\u001b[39m\u001b[38;5;241m2\u001b[39m)\n\u001b[0;32m     11\u001b[0m     \u001b[38;5;28;01mreturn\u001b[39;00m y\n\u001b[1;32m---> 13\u001b[0m metodoN\u001b[38;5;241m=\u001b[39m\u001b[43mnewton\u001b[49m\u001b[43m(\u001b[49m\u001b[43mfunc\u001b[49m\u001b[38;5;241;43m=\u001b[39;49m\u001b[43mf3\u001b[49m\u001b[43m,\u001b[49m\u001b[43m \u001b[49m\u001b[43mx0\u001b[49m\u001b[38;5;241;43m=\u001b[39;49m\u001b[38;5;241;43m0\u001b[39;49m\u001b[43m,\u001b[49m\u001b[43m \u001b[49m\u001b[43mfprime\u001b[49m\u001b[38;5;241;43m=\u001b[39;49m\u001b[43mprima\u001b[49m\u001b[43m,\u001b[49m\u001b[43m \u001b[49m\u001b[43mx1\u001b[49m\u001b[38;5;241;43m=\u001b[39;49m\u001b[38;5;241;43m0.48\u001b[39;49m\u001b[43m,\u001b[49m\u001b[43m \u001b[49m\u001b[43mmaxiter\u001b[49m\u001b[38;5;241;43m=\u001b[39;49m\u001b[38;5;241;43m10\u001b[39;49m\u001b[43m)\u001b[49m\n\u001b[0;32m     14\u001b[0m \u001b[38;5;28mprint\u001b[39m(metodoN)    \n",
      "File \u001b[1;32mc:\\Users\\David Egas\\AppData\\Local\\Programs\\Python\\Python313\\Lib\\site-packages\\scipy\\optimize\\_zeros_py.py:391\u001b[0m, in \u001b[0;36mnewton\u001b[1;34m(func, x0, fprime, args, tol, maxiter, fprime2, x1, rtol, full_output, disp)\u001b[0m\n\u001b[0;32m    388\u001b[0m \u001b[38;5;28;01mif\u001b[39;00m disp:\n\u001b[0;32m    389\u001b[0m     msg \u001b[38;5;241m=\u001b[39m (\u001b[38;5;124m\"\u001b[39m\u001b[38;5;124mFailed to converge after \u001b[39m\u001b[38;5;132;01m%d\u001b[39;00m\u001b[38;5;124m iterations, value is \u001b[39m\u001b[38;5;132;01m%s\u001b[39;00m\u001b[38;5;124m.\u001b[39m\u001b[38;5;124m\"\u001b[39m\n\u001b[0;32m    390\u001b[0m            \u001b[38;5;241m%\u001b[39m (itr \u001b[38;5;241m+\u001b[39m \u001b[38;5;241m1\u001b[39m, p))\n\u001b[1;32m--> 391\u001b[0m     \u001b[38;5;28;01mraise\u001b[39;00m \u001b[38;5;167;01mRuntimeError\u001b[39;00m(msg)\n\u001b[0;32m    393\u001b[0m \u001b[38;5;28;01mreturn\u001b[39;00m _results_select(full_output, (p, funcalls, itr \u001b[38;5;241m+\u001b[39m \u001b[38;5;241m1\u001b[39m, _ECONVERR), method)\n",
      "\u001b[1;31mRuntimeError\u001b[0m: Failed to converge after 10 iterations, value is 13.655012218663387."
     ]
    }
   ],
   "source": [
    "##USANDO EL EMTODOD DE NEWTON\n",
    "\n",
    "#Definimos la funcion \n",
    "def f3(x):\n",
    "    y=math.tan(math.pi * x) - 6 \n",
    "    return y\n",
    "\n",
    "##Definimos su derivada \n",
    "def prima(x):\n",
    "    y= math.pi * (1/math.cos(math.pi * x)**2)\n",
    "    return y\n",
    "\n",
    "metodoN=newton(func=f3, x0=0, fprime=prima, x1=0.48, maxiter=10)\n",
    "print(metodoN)    "
   ]
  },
  {
   "cell_type": "markdown",
   "metadata": {},
   "source": [
    "Como podemos observar el metodo de newton no converge despues de 10 iteraciones como se muestra en el error de la celda de codigo anterior"
   ]
  },
  {
   "cell_type": "code",
   "execution_count": 58,
   "metadata": {},
   "outputs": [
    {
     "ename": "RuntimeError",
     "evalue": "Failed to converge after 10 iterations, value is -3694.358600967476.",
     "output_type": "error",
     "traceback": [
      "\u001b[1;31m---------------------------------------------------------------------------\u001b[0m",
      "\u001b[1;31mRuntimeError\u001b[0m                              Traceback (most recent call last)",
      "Cell \u001b[1;32mIn[58], line 4\u001b[0m\n\u001b[0;32m      1\u001b[0m \u001b[38;5;66;03m##USANDO EL METODOD DE LA SECANTE \u001b[39;00m\n\u001b[0;32m      2\u001b[0m \u001b[38;5;66;03m#Usando la definicion de la funcion correspondiente a f3 para este ejercicio tenemos: \u001b[39;00m\n\u001b[1;32m----> 4\u001b[0m secanteM\u001b[38;5;241m=\u001b[39m\u001b[43mnewton\u001b[49m\u001b[43m(\u001b[49m\u001b[43mfunc\u001b[49m\u001b[38;5;241;43m=\u001b[39;49m\u001b[43mf3\u001b[49m\u001b[43m,\u001b[49m\u001b[43m \u001b[49m\u001b[43mx0\u001b[49m\u001b[38;5;241;43m=\u001b[39;49m\u001b[38;5;241;43m0\u001b[39;49m\u001b[43m,\u001b[49m\u001b[43m \u001b[49m\u001b[43mx1\u001b[49m\u001b[38;5;241;43m=\u001b[39;49m\u001b[38;5;241;43m0.48\u001b[39;49m\u001b[43m,\u001b[49m\u001b[43m \u001b[49m\u001b[43mmaxiter\u001b[49m\u001b[38;5;241;43m=\u001b[39;49m\u001b[38;5;241;43m10\u001b[39;49m\u001b[43m)\u001b[49m\n\u001b[0;32m      5\u001b[0m \u001b[38;5;28mprint\u001b[39m(secanteM)\n",
      "File \u001b[1;32mc:\\Users\\David Egas\\AppData\\Local\\Programs\\Python\\Python313\\Lib\\site-packages\\scipy\\optimize\\_zeros_py.py:391\u001b[0m, in \u001b[0;36mnewton\u001b[1;34m(func, x0, fprime, args, tol, maxiter, fprime2, x1, rtol, full_output, disp)\u001b[0m\n\u001b[0;32m    388\u001b[0m \u001b[38;5;28;01mif\u001b[39;00m disp:\n\u001b[0;32m    389\u001b[0m     msg \u001b[38;5;241m=\u001b[39m (\u001b[38;5;124m\"\u001b[39m\u001b[38;5;124mFailed to converge after \u001b[39m\u001b[38;5;132;01m%d\u001b[39;00m\u001b[38;5;124m iterations, value is \u001b[39m\u001b[38;5;132;01m%s\u001b[39;00m\u001b[38;5;124m.\u001b[39m\u001b[38;5;124m\"\u001b[39m\n\u001b[0;32m    390\u001b[0m            \u001b[38;5;241m%\u001b[39m (itr \u001b[38;5;241m+\u001b[39m \u001b[38;5;241m1\u001b[39m, p))\n\u001b[1;32m--> 391\u001b[0m     \u001b[38;5;28;01mraise\u001b[39;00m \u001b[38;5;167;01mRuntimeError\u001b[39;00m(msg)\n\u001b[0;32m    393\u001b[0m \u001b[38;5;28;01mreturn\u001b[39;00m _results_select(full_output, (p, funcalls, itr \u001b[38;5;241m+\u001b[39m \u001b[38;5;241m1\u001b[39m, _ECONVERR), method)\n",
      "\u001b[1;31mRuntimeError\u001b[0m: Failed to converge after 10 iterations, value is -3694.358600967476."
     ]
    }
   ],
   "source": [
    "##USANDO EL METODOD DE LA SECANTE \n",
    "#Usando la definicion de la funcion correspondiente a f3 para este ejercicio tenemos: \n",
    "\n",
    "secanteM=newton(func=f3, x0=0, x1=0.48, maxiter=10)\n",
    "print(secanteM)"
   ]
  },
  {
   "cell_type": "markdown",
   "metadata": {},
   "source": [
    "En base a la aplicacion de los metodod de la Biseccion, Secante y Newton. Podemos concluir que el mas efectivo para esta funcion es el metodod de la biseccion ya que es el unico que convere a una solucion dentro del numero de iteraciones mencionado en el ejercicio. \n"
   ]
  },
  {
   "cell_type": "markdown",
   "metadata": {},
   "source": [
    "## - Ejercicio 6: \n",
    "La función descrita por $$f(x) = \\ln(x^2 + 1) - e^{0.4x} \\cos(\\pi x)$$ tiene un número infinito de ceros"
   ]
  },
  {
   "cell_type": "code",
   "execution_count": 60,
   "metadata": {},
   "outputs": [],
   "source": [
    "##Definimos la funcion que nos permitira resolver los literales posteriores \n",
    "def f4(x):\n",
    "    y=math.log(x**2 + 1) - math.exp(0.4*x) * math.cos(math.pi * x)\n",
    "    return y"
   ]
  },
  {
   "cell_type": "markdown",
   "metadata": {},
   "source": [
    "a.  Determine, dentro de 10−6, el único cero negativo"
   ]
  },
  {
   "cell_type": "code",
   "execution_count": null,
   "metadata": {},
   "outputs": [
    {
     "name": "stdout",
     "output_type": "stream",
     "text": [
      "-0.4341430465317872\n"
     ]
    }
   ],
   "source": [
    "ceroN=newton(func=f4, x0=-0.1, tol=10e-6) \n",
    "##El valor inicial es tomado al azar con prueba y error teniendo en cuenta que debe ser negativo\n",
    "print(ceroN)"
   ]
  },
  {
   "cell_type": "markdown",
   "metadata": {},
   "source": [
    "b. Determine, dentro de 10−6, los cuatro ceros positivos más pequeños"
   ]
  },
  {
   "cell_type": "code",
   "execution_count": null,
   "metadata": {},
   "outputs": [
    {
     "name": "stdout",
     "output_type": "stream",
     "text": [
      "0.45065674788423343\n"
     ]
    }
   ],
   "source": [
    "##El valor inicial es tomado al azar con prueba y error teniendo en cuenta que deben ser ceros positivos \n",
    "primerC=newton(func=f4, x0=0.1, tol=10e-6)\n",
    "print(primerC)"
   ]
  },
  {
   "cell_type": "code",
   "execution_count": 69,
   "metadata": {},
   "outputs": [
    {
     "name": "stdout",
     "output_type": "stream",
     "text": [
      "0.45065674789108423\n"
     ]
    }
   ],
   "source": [
    "segundoC=newton(func=f4, x0=2, tol=10e-6)\n",
    "print(segundoC)"
   ]
  },
  {
   "cell_type": "code",
   "execution_count": 73,
   "metadata": {},
   "outputs": [
    {
     "name": "stdout",
     "output_type": "stream",
     "text": [
      "0.4506567478890626\n"
     ]
    }
   ],
   "source": [
    "tercerC=newton(func=f4, x0=3,tol=10e-6)\n",
    "print(tercerC)"
   ]
  },
  {
   "cell_type": "code",
   "execution_count": 85,
   "metadata": {},
   "outputs": [
    {
     "name": "stdout",
     "output_type": "stream",
     "text": [
      "0.45065674786363275\n"
     ]
    }
   ],
   "source": [
    "cuartoC=newton(func=f4, x0=4,tol=10e-6)\n",
    "print(cuartoC)"
   ]
  },
  {
   "cell_type": "markdown",
   "metadata": {},
   "source": [
    "De este literal podemos observar que el ceros mas pequeños estan cerca de 0.45. En los valores considerados como puntos iniciales obtenidos mediante prueba y error. "
   ]
  },
  {
   "cell_type": "markdown",
   "metadata": {},
   "source": [
    "c. Determine una aproximación inicial razonable para encontrar el enésimo cero positivo más pequeño de 𝑓\n"
   ]
  },
  {
   "cell_type": "code",
   "execution_count": 87,
   "metadata": {},
   "outputs": [
    {
     "data": {
      "image/png": "[encoded data removed]",
      "text/plain": [
       "<Figure size 800x600 with 1 Axes>"
      ]
     },
     "metadata": {},
     "output_type": "display_data"
    }
   ],
   "source": [
    "x_vals = np.linspace(-2, 5, 500)  \n",
    "y_vals = [f4(x) for x in x_vals]\n",
    "\n",
    "# Graficar la función\n",
    "plt.figure(figsize=(8, 6))\n",
    "plt.plot(x_vals, y_vals, label=r\"$f(x) = \\log(x^2 + 1) - e^{0.4x} \\cdot \\cos(\\pi x)$\", color=\"blue\")\n",
    "plt.axhline(0, color=\"black\", linewidth=0.8, linestyle=\"--\")  # Línea en y = 0\n",
    "plt.xlabel(\"x\")\n",
    "plt.ylabel(\"f(x)\")\n",
    "plt.title(\"Gráfica de la función f(x)\")\n",
    "plt.legend()\n",
    "plt.grid(True)\n",
    "plt.show()"
   ]
  },
  {
   "cell_type": "markdown",
   "metadata": {},
   "source": [
    "Con la ayuda de la grafica obtenida en Geogebra podemos decir que: \n",
    "El n-esimo cero pasa aproximadamente por la mitad de dos numeros positivos es decir que los ceros de la funcion vendrian dados por \n",
    "el numero srestado 0.5, dado el comportamiento de la funcion, ademas dado que aproximadamente en la grafica (observacion) nos entrega valores cercanos al numero  restado 0.5 cuando y=0. Lo que valida nuestra conclucion.  "
   ]
  },
  {
   "cell_type": "markdown",
   "metadata": {},
   "source": [
    "d. Use la parte c) para determinar, dentro de 10−6, el vigesimoquinto cero positivo más pequeño de 𝑓"
   ]
  },
  {
   "cell_type": "code",
   "execution_count": 100,
   "metadata": {},
   "outputs": [
    {
     "name": "stdout",
     "output_type": "stream",
     "text": [
      "24.499887047471766\n"
     ]
    }
   ],
   "source": [
    "vgC=newton(func=f4, x0=24.9,tol=10e-6)\n",
    "print(vgC)"
   ]
  },
  {
   "cell_type": "code",
   "execution_count": 103,
   "metadata": {},
   "outputs": [
    {
     "name": "stdout",
     "output_type": "stream",
     "text": [
      "24.49988704766688\n"
     ]
    }
   ],
   "source": [
    "vgC=newton(func=f4, x0=24.4,tol=10e-6)\n",
    "print(vgC)"
   ]
  },
  {
   "cell_type": "markdown",
   "metadata": {},
   "source": [
    "De esto podemos decir que el literal c es valido y la raiz converge cerca del numero sumado 0.5 o restado 0.5 del valor de la n-esima raiz que se desea calcular. Por la observacion de la grafica cuando y es 0"
   ]
  },
  {
   "cell_type": "markdown",
   "metadata": {},
   "source": [
    "## -Ejercicio 7: \n",
    "La función 𝑓(𝑥) = $$x^{\\frac{1}{3}}$$ tiene raíz en 𝑥 = 0.Usando el punto de inicio de 𝑥 = 1 y 𝑝0 = 5, 𝑝1 = 0.5 para el\n",
    "método de secante, compare los resultados de los métodos de la secante y de Newton."
   ]
  },
  {
   "cell_type": "code",
   "execution_count": 110,
   "metadata": {},
   "outputs": [
    {
     "name": "stderr",
     "output_type": "stream",
     "text": [
      "C:\\Users\\David Egas\\AppData\\Local\\Temp\\ipykernel_13884\\3301089468.py:5: RuntimeWarning: invalid value encountered in scalar power\n",
      "  y= x**(1/3)\n",
      "C:\\Users\\David Egas\\AppData\\Local\\Temp\\ipykernel_13884\\3301089468.py:8: RuntimeWarning: invalid value encountered in scalar power\n",
      "  y= 1 / (3*(x**(2/3)))\n"
     ]
    },
    {
     "ename": "RuntimeError",
     "evalue": "Failed to converge after 50 iterations, value is nan.",
     "output_type": "error",
     "traceback": [
      "\u001b[1;31m---------------------------------------------------------------------------\u001b[0m",
      "\u001b[1;31mRuntimeError\u001b[0m                              Traceback (most recent call last)",
      "Cell \u001b[1;32mIn[110], line 11\u001b[0m\n\u001b[0;32m      8\u001b[0m     y\u001b[38;5;241m=\u001b[39m \u001b[38;5;241m1\u001b[39m \u001b[38;5;241m/\u001b[39m (\u001b[38;5;241m3\u001b[39m\u001b[38;5;241m*\u001b[39m(x\u001b[38;5;241m*\u001b[39m\u001b[38;5;241m*\u001b[39m(\u001b[38;5;241m2\u001b[39m\u001b[38;5;241m/\u001b[39m\u001b[38;5;241m3\u001b[39m)))\n\u001b[0;32m      9\u001b[0m     \u001b[38;5;28;01mreturn\u001b[39;00m y\n\u001b[1;32m---> 11\u001b[0m r\u001b[38;5;241m=\u001b[39m\u001b[43mnewton\u001b[49m\u001b[43m \u001b[49m\u001b[43m(\u001b[49m\u001b[43mfunc\u001b[49m\u001b[38;5;241;43m=\u001b[39;49m\u001b[43mf5\u001b[49m\u001b[43m,\u001b[49m\u001b[43m \u001b[49m\u001b[43mx0\u001b[49m\u001b[38;5;241;43m=\u001b[39;49m\u001b[38;5;241;43m1\u001b[39;49m\u001b[43m,\u001b[49m\u001b[43m \u001b[49m\u001b[43mfprime\u001b[49m\u001b[38;5;241;43m=\u001b[39;49m\u001b[43mf4d\u001b[49m\u001b[43m)\u001b[49m\n\u001b[0;32m     12\u001b[0m \u001b[38;5;28mprint\u001b[39m(r)\n",
      "File \u001b[1;32mc:\\Users\\David Egas\\AppData\\Local\\Programs\\Python\\Python313\\Lib\\site-packages\\scipy\\optimize\\_zeros_py.py:391\u001b[0m, in \u001b[0;36mnewton\u001b[1;34m(func, x0, fprime, args, tol, maxiter, fprime2, x1, rtol, full_output, disp)\u001b[0m\n\u001b[0;32m    388\u001b[0m \u001b[38;5;28;01mif\u001b[39;00m disp:\n\u001b[0;32m    389\u001b[0m     msg \u001b[38;5;241m=\u001b[39m (\u001b[38;5;124m\"\u001b[39m\u001b[38;5;124mFailed to converge after \u001b[39m\u001b[38;5;132;01m%d\u001b[39;00m\u001b[38;5;124m iterations, value is \u001b[39m\u001b[38;5;132;01m%s\u001b[39;00m\u001b[38;5;124m.\u001b[39m\u001b[38;5;124m\"\u001b[39m\n\u001b[0;32m    390\u001b[0m            \u001b[38;5;241m%\u001b[39m (itr \u001b[38;5;241m+\u001b[39m \u001b[38;5;241m1\u001b[39m, p))\n\u001b[1;32m--> 391\u001b[0m     \u001b[38;5;28;01mraise\u001b[39;00m \u001b[38;5;167;01mRuntimeError\u001b[39;00m(msg)\n\u001b[0;32m    393\u001b[0m \u001b[38;5;28;01mreturn\u001b[39;00m _results_select(full_output, (p, funcalls, itr \u001b[38;5;241m+\u001b[39m \u001b[38;5;241m1\u001b[39m, _ECONVERR), method)\n",
      "\u001b[1;31mRuntimeError\u001b[0m: Failed to converge after 50 iterations, value is nan."
     ]
    }
   ],
   "source": [
    "##Aplicacion del metodo de newton \n",
    "\n",
    "#Se define la funcion y su derivada \n",
    "def f5(x):\n",
    "    y= x**(1/3)\n",
    "    return y\n",
    "def f4d(x):\n",
    "    y= 1 / (3*(x**(2/3)))\n",
    "    return y\n",
    "\n",
    "r=newton (func=f5, x0=1, fprime=f4d)\n",
    "print(r)"
   ]
  },
  {
   "cell_type": "code",
   "execution_count": 111,
   "metadata": {},
   "outputs": [
    {
     "name": "stderr",
     "output_type": "stream",
     "text": [
      "C:\\Users\\David Egas\\AppData\\Local\\Temp\\ipykernel_13884\\3301089468.py:5: RuntimeWarning: invalid value encountered in scalar power\n",
      "  y= x**(1/3)\n"
     ]
    },
    {
     "ename": "RuntimeError",
     "evalue": "Failed to converge after 50 iterations, value is nan.",
     "output_type": "error",
     "traceback": [
      "\u001b[1;31m---------------------------------------------------------------------------\u001b[0m",
      "\u001b[1;31mRuntimeError\u001b[0m                              Traceback (most recent call last)",
      "Cell \u001b[1;32mIn[111], line 2\u001b[0m\n\u001b[0;32m      1\u001b[0m \u001b[38;5;66;03m##METODO DE LA SECANTE  \u001b[39;00m\n\u001b[1;32m----> 2\u001b[0m rs\u001b[38;5;241m=\u001b[39m\u001b[43mnewton\u001b[49m\u001b[43m(\u001b[49m\u001b[43mfunc\u001b[49m\u001b[38;5;241;43m=\u001b[39;49m\u001b[43mf5\u001b[49m\u001b[43m,\u001b[49m\u001b[43m \u001b[49m\u001b[43mx0\u001b[49m\u001b[38;5;241;43m=\u001b[39;49m\u001b[38;5;241;43m1\u001b[39;49m\u001b[43m)\u001b[49m\n\u001b[0;32m      3\u001b[0m \u001b[38;5;28mprint\u001b[39m(rs)\n",
      "File \u001b[1;32mc:\\Users\\David Egas\\AppData\\Local\\Programs\\Python\\Python313\\Lib\\site-packages\\scipy\\optimize\\_zeros_py.py:391\u001b[0m, in \u001b[0;36mnewton\u001b[1;34m(func, x0, fprime, args, tol, maxiter, fprime2, x1, rtol, full_output, disp)\u001b[0m\n\u001b[0;32m    388\u001b[0m \u001b[38;5;28;01mif\u001b[39;00m disp:\n\u001b[0;32m    389\u001b[0m     msg \u001b[38;5;241m=\u001b[39m (\u001b[38;5;124m\"\u001b[39m\u001b[38;5;124mFailed to converge after \u001b[39m\u001b[38;5;132;01m%d\u001b[39;00m\u001b[38;5;124m iterations, value is \u001b[39m\u001b[38;5;132;01m%s\u001b[39;00m\u001b[38;5;124m.\u001b[39m\u001b[38;5;124m\"\u001b[39m\n\u001b[0;32m    390\u001b[0m            \u001b[38;5;241m%\u001b[39m (itr \u001b[38;5;241m+\u001b[39m \u001b[38;5;241m1\u001b[39m, p))\n\u001b[1;32m--> 391\u001b[0m     \u001b[38;5;28;01mraise\u001b[39;00m \u001b[38;5;167;01mRuntimeError\u001b[39;00m(msg)\n\u001b[0;32m    393\u001b[0m \u001b[38;5;28;01mreturn\u001b[39;00m _results_select(full_output, (p, funcalls, itr \u001b[38;5;241m+\u001b[39m \u001b[38;5;241m1\u001b[39m, _ECONVERR), method)\n",
      "\u001b[1;31mRuntimeError\u001b[0m: Failed to converge after 50 iterations, value is nan."
     ]
    }
   ],
   "source": [
    "##METODO DE LA SECANTE  \n",
    "rs=newton(func=f5, x0=1)\n",
    "print(rs)"
   ]
  },
  {
   "cell_type": "markdown",
   "metadata": {},
   "source": [
    "de este ejercicio podemos decir que tanto el merodod de la secante como el metodo de newton no convergen a ninun numero dada la grafica y el comportamiento de la funcion. "
   ]
  },
  {
   "cell_type": "code",
   "execution_count": 116,
   "metadata": {},
   "outputs": [
    {
     "data": {
      "image/png": "[encoded data removed]",
      "text/plain": [
       "<Figure size 800x600 with 1 Axes>"
      ]
     },
     "metadata": {},
     "output_type": "display_data"
    }
   ],
   "source": [
    "def f(x):\n",
    "    return np.cbrt(x)  # np.cbrt calcula la raíz cúbica\n",
    "\n",
    "\n",
    "x_vals = np.linspace(-8, 8, 500)  # Rango de x\n",
    "y_vals = f(x_vals)\n",
    "\n",
    "# Graficar la función\n",
    "plt.figure(figsize=(8, 6))\n",
    "plt.plot(x_vals, y_vals, label=r\"$f(x) = x^{1/3}$\", color=\"blue\")\n",
    "plt.axhline(0, color=\"black\", linewidth=0.8, linestyle=\"--\")  # Línea en y = 0\n",
    "plt.axvline(0, color=\"black\", linewidth=0.8, linestyle=\"--\")  # Línea en x = 0\n",
    "plt.xlabel(\"x\")\n",
    "plt.ylabel(\"f(x)\")\n",
    "plt.title(\"Gráfica de la función $f(x) = x^{1/3}$\")\n",
    "plt.legend()\n",
    "plt.grid(True)\n",
    "plt.show()"
   ]
  }
 ],
 "metadata": {
  "kernelspec": {
   "display_name": "Python 3",
   "language": "python",
   "name": "python3"
  },
  "language_info": {
   "codemirror_mode": {
    "name": "ipython",
    "version": 3
   },
   "file_extension": ".py",
   "mimetype": "text/x-python",
   "name": "python",
   "nbconvert_exporter": "python",
   "pygments_lexer": "ipython3",
   "version": "3.13.0"
  }
 },
 "nbformat": 4,
 "nbformat_minor": 2
}
